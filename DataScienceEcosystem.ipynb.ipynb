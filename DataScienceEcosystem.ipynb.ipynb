{
 "cells": [
  {
   "cell_type": "markdown",
   "id": "c8d9f2d8-f323-43c0-88e4-0e132514f17c",
   "metadata": {},
   "source": [
    "# Data Science Tools and Ecosystem\n",
    "In this notebook, Data Science Tools and Ecosystem are summarized.\n",
    "\n",
    "Some of the commonly used libraries used by Data Scientists include:\n",
    "1. Pandas\n",
    "2. NumPy\n",
    "3. Matplotlib\n",
    "4. Seaborn\n",
    "5. Scikit-learn\n",
    "\n"
   ]
  },
  {
   "cell_type": "markdown",
   "id": "4ccbaaa3-3204-4799-8416-e37d5a1494ac",
   "metadata": {
    "tags": []
   },
   "source": [
    "**Objectives:**\n",
    "Some of the popular languages that Data Scientists use are:\n",
    "- Python\n",
    "- R\n",
    "- Javascript\n",
    "- SQL\n",
    "- Julia\n",
    "\n",
    "## Author\n",
    "Sudhanshu Ranjan Singh"
   ]
  },
  {
   "cell_type": "markdown",
   "id": "b989bc8a-3aab-4cdc-8a77-3772250c662d",
   "metadata": {},
   "source": [
    "|Data Science tools|\n",
    "|--------------------|\n",
    "|JupyterLab        |\n",
    "|Anaconda          |\n",
    "|Visual Studio Code|"
   ]
  },
  {
   "cell_type": "markdown",
   "id": "b1edba0d-371b-45d1-a6cd-0b05094094f7",
   "metadata": {
    "tags": []
   },
   "source": [
    "# Introducing arithmetic expression expamples\n",
    "### Below are a few examples of evaluating arithmetic expressions in Python"
   ]
  },
  {
   "cell_type": "code",
   "execution_count": 4,
   "id": "684377a3-d33f-42df-8198-08d2b97e5079",
   "metadata": {
    "tags": []
   },
   "outputs": [
    {
     "data": {
      "text/plain": [
       "17"
      ]
     },
     "execution_count": 4,
     "metadata": {},
     "output_type": "execute_result"
    }
   ],
   "source": [
    "# This a simple arithmetic expression to mutiply then add integers\n",
    "(3*4)+5"
   ]
  },
  {
   "cell_type": "code",
   "execution_count": 10,
   "id": "6ae93462-3f67-4e74-97c2-778031091081",
   "metadata": {
    "tags": []
   },
   "outputs": [
    {
     "data": {
      "text/plain": [
       "3.3333333333333335"
      ]
     },
     "execution_count": 10,
     "metadata": {},
     "output_type": "execute_result"
    }
   ],
   "source": [
    "#This will convert 200 minutes to hours by diving by 60.\n",
    "(200/60)\n"
   ]
  },
  {
   "cell_type": "code",
   "execution_count": null,
   "id": "45f6f903-bf9e-4380-8627-10535d58f347",
   "metadata": {},
   "outputs": [],
   "source": []
  }
 ],
 "metadata": {
  "kernelspec": {
   "display_name": "Python 3 (ipykernel)",
   "language": "python",
   "name": "python3"
  },
  "language_info": {
   "codemirror_mode": {
    "name": "ipython",
    "version": 3
   },
   "file_extension": ".py",
   "mimetype": "text/x-python",
   "name": "python",
   "nbconvert_exporter": "python",
   "pygments_lexer": "ipython3",
   "version": "3.11.5"
  }
 },
 "nbformat": 4,
 "nbformat_minor": 5
}
